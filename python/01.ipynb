{
 "cells": [
  {
   "cell_type": "code",
   "execution_count": 1,
   "id": "b0f3f902-81e4-4895-b743-0b9c995a5d60",
   "metadata": {},
   "outputs": [],
   "source": [
    "arr = [1,2,3,4,5,6,11,10,15,16]"
   ]
  },
  {
   "cell_type": "code",
   "execution_count": 2,
   "id": "79d63921-4dfb-4bdb-b177-93ea04c26e26",
   "metadata": {},
   "outputs": [
    {
     "name": "stdout",
     "output_type": "stream",
     "text": [
      "[1, 2, 3, 4, 5, 6, 11, 10, 15, 16]\n"
     ]
    }
   ],
   "source": [
    "print(arr)"
   ]
  },
  {
   "cell_type": "code",
   "execution_count": 8,
   "id": "059f856b-5e6e-4383-9e95-8f354c63d6bf",
   "metadata": {},
   "outputs": [
    {
     "name": "stdout",
     "output_type": "stream",
     "text": [
      "-1\n"
     ]
    }
   ],
   "source": [
    "x = 10\n",
    "arr = [1,2,3,4,5,6,11,11,15,16]\n",
    "def find_index(arr,x):\n",
    "    for i in range(len(arr)):\n",
    "        if arr[i] == x:\n",
    "            return i\n",
    "    return -1\n",
    "result = find_index(arr,x)\n",
    "print(result)\n",
    "\n"
   ]
  },
  {
   "cell_type": "code",
   "execution_count": 9,
   "id": "0870d6dc-5c22-4593-8011-cf33f69a5a50",
   "metadata": {},
   "outputs": [
    {
     "name": "stdout",
     "output_type": "stream",
     "text": [
      "1\n",
      "2\n",
      "3\n",
      "4\n",
      "5\n",
      "6\n",
      "11\n",
      "11\n",
      "15\n",
      "16\n"
     ]
    }
   ],
   "source": [
    "arr = [1,2,3,4,5,6,11,11,15,16]\n",
    "for i in arr:\n",
    "    print(i)"
   ]
  },
  {
   "cell_type": "code",
   "execution_count": 12,
   "id": "2d3d95e8-78e7-4c72-8631-cea95d70959b",
   "metadata": {},
   "outputs": [
    {
     "name": "stdout",
     "output_type": "stream",
     "text": [
      "1\n",
      "2\n",
      "3\n",
      "4\n",
      "5\n",
      "6\n",
      "11\n",
      "11\n",
      "15\n",
      "16\n"
     ]
    }
   ],
   "source": []
  },
  {
   "cell_type": "code",
   "execution_count": null,
   "id": "23f26755",
   "metadata": {},
   "outputs": [],
   "source": []
  }
 ],
 "metadata": {
  "kernelspec": {
   "display_name": "Python 3 (ipykernel)",
   "language": "python",
   "name": "python3"
  },
  "language_info": {
   "codemirror_mode": {
    "name": "ipython",
    "version": 3
   },
   "file_extension": ".py",
   "mimetype": "text/x-python",
   "name": "python",
   "nbconvert_exporter": "python",
   "pygments_lexer": "ipython3",
   "version": "3.13.0"
  }
 },
 "nbformat": 4,
 "nbformat_minor": 5
}
